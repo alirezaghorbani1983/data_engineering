{
 "cells": [
  {
   "cell_type": "code",
   "execution_count": 1,
   "id": "a401efc5-9edc-4b50-8635-883092a5f0b6",
   "metadata": {},
   "outputs": [],
   "source": [
    "#Install & load sqlite3\n",
    "\n",
    "#!pip install sqlite3  ##Uncomment this code only if you are working in a local environment to install sqlite3\n",
    "import sqlite3"
   ]
  },
  {
   "cell_type": "code",
   "execution_count": 2,
   "id": "5a1d71d6-f33e-45b1-b244-8b7b63b93983",
   "metadata": {},
   "outputs": [],
   "source": [
    "# Connecting to sqlite\n",
    "# connection object\n",
    "conn = sqlite3.connect('INSTRUCTOR.db')"
   ]
  },
  {
   "cell_type": "code",
   "execution_count": 3,
   "id": "d8e6cb9b-9f16-4ec0-bea9-5389865df482",
   "metadata": {},
   "outputs": [
    {
     "name": "stdout",
     "output_type": "stream",
     "text": [
      "Data basese is created successfully!\n"
     ]
    }
   ],
   "source": [
    "# create cursur for implement sql commands\n",
    "\n",
    "cursor_obj = conn.cursor()\n",
    "\n",
    "\n",
    "print(\"Data basese is created successfully!\")"
   ]
  },
  {
   "cell_type": "code",
   "execution_count": 5,
   "id": "18a4b439-79a2-4eff-b2f5-e1c1e2be974b",
   "metadata": {
    "jupyter": {
     "source_hidden": true
    }
   },
   "outputs": [
    {
     "data": {
      "text/plain": [
       "<sqlite3.Cursor at 0x27d113c30c0>"
      ]
     },
     "execution_count": 5,
     "metadata": {},
     "output_type": "execute_result"
    }
   ],
   "source": [
    "# drop tabale if it exists before\n",
    "cursor_obj.execute(\"DROP TABLE IF EXISTS INSTRUCTOR\")"
   ]
  },
  {
   "cell_type": "markdown",
   "id": "6dcf5e8d-d449-4808-acaa-0e808a695fc7",
   "metadata": {},
   "source": [
    "## create table"
   ]
  },
  {
   "cell_type": "code",
   "execution_count": 7,
   "id": "54090b8e-9c49-4d35-ae03-efea2af0c787",
   "metadata": {},
   "outputs": [
    {
     "name": "stdout",
     "output_type": "stream",
     "text": [
      "Table is ready\n"
     ]
    }
   ],
   "source": [
    "#CREATING TABLE\n",
    "\n",
    "table = \"\"\" create table IF NOT EXISTS \n",
    "INSTRUCTOR(ID INTEGER PRIMARY KEY NOT NULL, FNAME VARCHAR(20), \n",
    "LNAME VARCHAR(20), CITY VARCHAR(20), CCODE CHAR(2));\"\"\" \n",
    "\n",
    "cursor_obj.execute(table)\n",
    "\n",
    "print(\"Table is ready\")\n",
    "\n"
   ]
  },
  {
   "cell_type": "markdown",
   "id": "aa1bb2fb-6fbf-45d3-b364-754f6949e9a8",
   "metadata": {},
   "source": [
    "## insert data in table"
   ]
  },
  {
   "cell_type": "code",
   "execution_count": 8,
   "id": "be13dbfa-53b5-47e5-8a6c-403c1a34360a",
   "metadata": {},
   "outputs": [
    {
     "data": {
      "text/plain": [
       "<sqlite3.Cursor at 0x27d113c30c0>"
      ]
     },
     "execution_count": 8,
     "metadata": {},
     "output_type": "execute_result"
    }
   ],
   "source": [
    "cursor_obj.execute(''' insert into INSTRUCTOR values (1, 'Rav', 'Ahuja', 'Toronto', 'CA')''') "
   ]
  },
  {
   "cell_type": "markdown",
   "id": "cd12249a-96e9-41a6-9b43-0a3b5789c1ac",
   "metadata": {},
   "source": [
    "## Add more data (rows)"
   ]
  },
  {
   "cell_type": "code",
   "execution_count": 9,
   "id": "41086974-3475-4faa-9147-a76ba189e3d4",
   "metadata": {},
   "outputs": [
    {
     "data": {
      "text/plain": [
       "<sqlite3.Cursor at 0x27d113c30c0>"
      ]
     },
     "execution_count": 9,
     "metadata": {},
     "output_type": "execute_result"
    }
   ],
   "source": [
    "cursor_obj.execute(''' insert into INSTRUCTOR values \n",
    "(2, 'Raul', \"Chong\", \"'Markham\", \"CA\"),\n",
    "(3, \"Hima\", \"Vasudeman\", \"Chicago\", \"US\")''')"
   ]
  },
  {
   "cell_type": "markdown",
   "id": "0ebd1419-8af6-4539-8a2b-141d7157ccd4",
   "metadata": {},
   "source": [
    "## Query data in the table"
   ]
  },
  {
   "cell_type": "markdown",
   "id": "93b0eed8-7395-4ee9-aca7-25234394dcf7",
   "metadata": {},
   "source": [
    "### RETRIEVE DATA FROM TABLE"
   ]
  },
  {
   "cell_type": "markdown",
   "id": "39a9dc46-7fc2-4dd6-8dd0-f4a26e6c65b3",
   "metadata": {},
   "source": [
    "## fetch data"
   ]
  },
  {
   "cell_type": "code",
   "execution_count": 12,
   "id": "2ea05463-32ae-4a3b-a366-8f488cb52838",
   "metadata": {},
   "outputs": [
    {
     "name": "stdout",
     "output_type": "stream",
     "text": [
      "All the data\n",
      "(1, 'Rav', 'Ahuja', 'Toronto', 'CA')\n",
      "(2, 'Raul', 'Chong', \"'Markham\", 'CA')\n",
      "(3, 'Hima', 'Vasudeman', 'Chicago', 'US')\n"
     ]
    }
   ],
   "source": [
    "statement = '''SELECT * FROM INSTRUCTOR'''\n",
    "cursor_obj.execute(statement)\n",
    "\n",
    "print(\"All the data\")\n",
    "\n",
    "output_all = cursor_obj.fetchall()\n",
    "\n",
    "for row_all in output_all:\n",
    "    print(row_all)"
   ]
  },
  {
   "cell_type": "code",
   "execution_count": 14,
   "id": "36dce4a0-d68a-4382-8d2b-d43f0aac2efe",
   "metadata": {},
   "outputs": [
    {
     "name": "stdout",
     "output_type": "stream",
     "text": [
      "all the data\n",
      "(1, 'Rav', 'Ahuja', 'Toronto', 'CA')\n",
      "(2, 'Raul', 'Chong', \"'Markham\", 'CA')\n"
     ]
    }
   ],
   "source": [
    "## fetch few rows from table\n",
    "statement = '''SELECT * FROM INSTRUCTOR'''\n",
    "cursor_obj.execute(statement)\n",
    "\n",
    "print(\"all the data\")\n",
    "\n",
    "output_many = cursor_obj.fetchmany(2)\n",
    "for row_many in output_many:\n",
    "    print(row_many)\n",
    "    "
   ]
  },
  {
   "cell_type": "code",
   "execution_count": 18,
   "id": "895508d1-cf4f-4578-9c75-215224d8e4a1",
   "metadata": {},
   "outputs": [
    {
     "name": "stdout",
     "output_type": "stream",
     "text": [
      "all the data\n",
      "('Rav',)\n",
      "('Raul',)\n",
      "('Hima',)\n"
     ]
    }
   ],
   "source": [
    "# Fetch only FNAME from the table\n",
    "statement = '''SELECT FNAME FROM INSTRUCTOR'''\n",
    "cursor_obj.execute(statement)\n",
    "\n",
    "print(\"all the data\")\n",
    "\n",
    "output_column = cursor_obj.fetchall()\n",
    "for fetch in output_column:\n",
    "    print(fetch)\n"
   ]
  },
  {
   "cell_type": "markdown",
   "id": "fa9c1e51-6868-4c3c-a1dd-24802b0d9fe2",
   "metadata": {},
   "source": [
    "### update statement"
   ]
  },
  {
   "cell_type": "code",
   "execution_count": 28,
   "id": "b4772832-728e-478a-b2cd-dd338d97fe8b",
   "metadata": {},
   "outputs": [
    {
     "name": "stdout",
     "output_type": "stream",
     "text": [
      "all the data\n",
      "(1, 'Rav', 'Ahuja', 'MOOSETOWN', 'CA')\n",
      "(2, 'Raul', 'Chong', \"'Markham\", 'CA')\n"
     ]
    }
   ],
   "source": [
    "query_update = '''update INSTRUCTOR set CITY = \"MOOSETOWN\" where FNAME = \"Rav\"'''\n",
    "cursor_obj.execute(query_update)\n",
    "\n",
    "\n",
    "statement = '''select * from instructor'''\n",
    "cursor_obj.execute(statement)\n",
    "\n",
    "print(\"all the data\")\n",
    "output1 = cursor_obj.fetchmany(2)\n",
    "for row in output1:\n",
    "    print(row)"
   ]
  },
  {
   "cell_type": "markdown",
   "id": "3bb7a106-2823-44df-8666-2a52bc8ecd13",
   "metadata": {},
   "source": [
    "## Retrieve data into Pandas"
   ]
  },
  {
   "cell_type": "code",
   "execution_count": 32,
   "id": "615634dc-c4c0-4d94-88d2-665dfdf0cb75",
   "metadata": {},
   "outputs": [
    {
     "name": "stdout",
     "output_type": "stream",
     "text": [
      "Requirement already satisfied: pandas in c:\\users\\gebruiker\\anaconda3\\lib\\site-packages (2.3.2)\n",
      "Requirement already satisfied: numpy>=1.26.0 in c:\\users\\gebruiker\\anaconda3\\lib\\site-packages (from pandas) (1.26.4)\n",
      "Requirement already satisfied: python-dateutil>=2.8.2 in c:\\users\\gebruiker\\anaconda3\\lib\\site-packages (from pandas) (2.9.0.post0)\n",
      "Requirement already satisfied: pytz>=2020.1 in c:\\users\\gebruiker\\anaconda3\\lib\\site-packages (from pandas) (2024.1)\n",
      "Requirement already satisfied: tzdata>=2022.7 in c:\\users\\gebruiker\\anaconda3\\lib\\site-packages (from pandas) (2023.3)\n",
      "Requirement already satisfied: six>=1.5 in c:\\users\\gebruiker\\anaconda3\\lib\\site-packages (from python-dateutil>=2.8.2->pandas) (1.16.0)\n"
     ]
    },
    {
     "name": "stderr",
     "output_type": "stream",
     "text": [
      "WARNING: Ignoring invalid distribution ~qlalchemy (C:\\Users\\Gebruiker\\AppData\\Roaming\\Python\\Python312\\site-packages)\n",
      "WARNING: Ignoring invalid distribution ~qlalchemy (C:\\Users\\Gebruiker\\AppData\\Roaming\\Python\\Python312\\site-packages)\n",
      "WARNING: Ignoring invalid distribution ~harset-normalizer (C:\\Users\\Gebruiker\\anaconda3\\Lib\\site-packages)\n",
      "WARNING: Ignoring invalid distribution ~qlalchemy (C:\\Users\\Gebruiker\\AppData\\Roaming\\Python\\Python312\\site-packages)\n",
      "WARNING: Ignoring invalid distribution ~harset-normalizer (C:\\Users\\Gebruiker\\anaconda3\\Lib\\site-packages)\n",
      "WARNING: Ignoring invalid distribution ~harset-normalizer (C:\\Users\\Gebruiker\\anaconda3\\Lib\\site-packages)\n",
      "WARNING: Ignoring invalid distribution ~qlalchemy (C:\\Users\\Gebruiker\\AppData\\Roaming\\Python\\Python312\\site-packages)\n",
      "WARNING: Ignoring invalid distribution ~qlalchemy (C:\\Users\\Gebruiker\\AppData\\Roaming\\Python\\Python312\\site-packages)\n"
     ]
    },
    {
     "data": {
      "text/html": [
       "<div>\n",
       "<style scoped>\n",
       "    .dataframe tbody tr th:only-of-type {\n",
       "        vertical-align: middle;\n",
       "    }\n",
       "\n",
       "    .dataframe tbody tr th {\n",
       "        vertical-align: top;\n",
       "    }\n",
       "\n",
       "    .dataframe thead th {\n",
       "        text-align: right;\n",
       "    }\n",
       "</style>\n",
       "<table border=\"1\" class=\"dataframe\">\n",
       "  <thead>\n",
       "    <tr style=\"text-align: right;\">\n",
       "      <th></th>\n",
       "      <th>ID</th>\n",
       "      <th>FNAME</th>\n",
       "      <th>LNAME</th>\n",
       "      <th>CITY</th>\n",
       "      <th>CCODE</th>\n",
       "    </tr>\n",
       "  </thead>\n",
       "  <tbody>\n",
       "    <tr>\n",
       "      <th>0</th>\n",
       "      <td>1</td>\n",
       "      <td>Rav</td>\n",
       "      <td>Ahuja</td>\n",
       "      <td>MOOSETOWN</td>\n",
       "      <td>CA</td>\n",
       "    </tr>\n",
       "    <tr>\n",
       "      <th>1</th>\n",
       "      <td>2</td>\n",
       "      <td>Raul</td>\n",
       "      <td>Chong</td>\n",
       "      <td>'Markham</td>\n",
       "      <td>CA</td>\n",
       "    </tr>\n",
       "    <tr>\n",
       "      <th>2</th>\n",
       "      <td>3</td>\n",
       "      <td>Hima</td>\n",
       "      <td>Vasudeman</td>\n",
       "      <td>Chicago</td>\n",
       "      <td>US</td>\n",
       "    </tr>\n",
       "  </tbody>\n",
       "</table>\n",
       "</div>"
      ],
      "text/plain": [
       "   ID FNAME      LNAME       CITY CCODE\n",
       "0   1   Rav      Ahuja  MOOSETOWN    CA\n",
       "1   2  Raul      Chong   'Markham    CA\n",
       "2   3  Hima  Vasudeman    Chicago    US"
      ]
     },
     "execution_count": 32,
     "metadata": {},
     "output_type": "execute_result"
    }
   ],
   "source": [
    "!pip install pandas\n",
    "import pandas as pd\n",
    "#retrieve the query results into a pandas dataframe\n",
    "df = pd.read_sql_query(\"select * from instructor;\", conn)\n",
    "\n",
    "#print the dataframe\n",
    "df"
   ]
  },
  {
   "cell_type": "code",
   "execution_count": 31,
   "id": "07328072-0d2a-4860-8513-88bcb3dcc690",
   "metadata": {},
   "outputs": [
    {
     "data": {
      "text/plain": [
       "<module 'pandas' from 'C:\\\\Users\\\\Gebruiker\\\\anaconda3\\\\Lib\\\\site-packages\\\\pandas\\\\__init__.py'>"
      ]
     },
     "execution_count": 31,
     "metadata": {},
     "output_type": "execute_result"
    }
   ],
   "source": [
    "df = pd.read_sql_query(\"select * from instructor;\", conn)\n",
    "\n",
    "#print the dataframe\n",
    "pd"
   ]
  },
  {
   "cell_type": "code",
   "execution_count": 33,
   "id": "7f8420e9-7011-45ef-a52c-e6099e0c8eaf",
   "metadata": {},
   "outputs": [
    {
     "data": {
      "text/plain": [
       "'Ahuja'"
      ]
     },
     "execution_count": 33,
     "metadata": {},
     "output_type": "execute_result"
    }
   ],
   "source": [
    "#print just the LNAME for first row in the pandas data frame\n",
    "df.LNAME[0]"
   ]
  },
  {
   "cell_type": "code",
   "execution_count": 34,
   "id": "2e2e7133-3460-4274-b1e5-83fc6242d506",
   "metadata": {
    "jupyter": {
     "source_hidden": true
    }
   },
   "outputs": [
    {
     "data": {
      "text/plain": [
       "(3, 5)"
      ]
     },
     "execution_count": 34,
     "metadata": {},
     "output_type": "execute_result"
    }
   ],
   "source": [
    "df.shape"
   ]
  },
  {
   "cell_type": "markdown",
   "id": "69c479d3-a891-407c-bf28-d8ee8ad9b39a",
   "metadata": {},
   "source": [
    "## close the connection"
   ]
  },
  {
   "cell_type": "code",
   "execution_count": 35,
   "id": "b380e913-4880-4994-9c9a-75c0bbfa9846",
   "metadata": {},
   "outputs": [],
   "source": [
    "conn.close()"
   ]
  },
  {
   "cell_type": "code",
   "execution_count": 36,
   "id": "a2d332c8-11a7-4baf-8068-0d6a6522f7af",
   "metadata": {},
   "outputs": [
    {
     "name": "stdout",
     "output_type": "stream",
     "text": [
      "Requirement already satisfied: ipython-sql in c:\\users\\gebruiker\\anaconda3\\lib\\site-packages (0.5.0)\n",
      "Requirement already satisfied: prettytable in c:\\users\\gebruiker\\appdata\\roaming\\python\\python312\\site-packages (from ipython-sql) (3.5.0)\n",
      "Requirement already satisfied: ipython in c:\\users\\gebruiker\\anaconda3\\lib\\site-packages (from ipython-sql) (8.27.0)\n",
      "Requirement already satisfied: sqlalchemy>=2.0 in c:\\users\\gebruiker\\anaconda3\\lib\\site-packages (from ipython-sql) (2.0.34)\n",
      "Requirement already satisfied: sqlparse in c:\\users\\gebruiker\\appdata\\roaming\\python\\python312\\site-packages (from ipython-sql) (0.5.3)\n",
      "Requirement already satisfied: six in c:\\users\\gebruiker\\anaconda3\\lib\\site-packages (from ipython-sql) (1.16.0)\n",
      "Requirement already satisfied: ipython-genutils in c:\\users\\gebruiker\\anaconda3\\lib\\site-packages (from ipython-sql) (0.2.0)\n",
      "Requirement already satisfied: typing-extensions>=4.6.0 in c:\\users\\gebruiker\\anaconda3\\lib\\site-packages (from sqlalchemy>=2.0->ipython-sql) (4.11.0)\n",
      "Requirement already satisfied: greenlet!=0.4.17 in c:\\users\\gebruiker\\anaconda3\\lib\\site-packages (from sqlalchemy>=2.0->ipython-sql) (3.0.1)\n",
      "Requirement already satisfied: decorator in c:\\users\\gebruiker\\anaconda3\\lib\\site-packages (from ipython->ipython-sql) (5.1.1)\n",
      "Requirement already satisfied: jedi>=0.16 in c:\\users\\gebruiker\\anaconda3\\lib\\site-packages (from ipython->ipython-sql) (0.19.1)\n",
      "Requirement already satisfied: matplotlib-inline in c:\\users\\gebruiker\\anaconda3\\lib\\site-packages (from ipython->ipython-sql) (0.1.6)\n",
      "Requirement already satisfied: prompt-toolkit<3.1.0,>=3.0.41 in c:\\users\\gebruiker\\anaconda3\\lib\\site-packages (from ipython->ipython-sql) (3.0.43)\n",
      "Requirement already satisfied: pygments>=2.4.0 in c:\\users\\gebruiker\\anaconda3\\lib\\site-packages (from ipython->ipython-sql) (2.15.1)\n",
      "Requirement already satisfied: stack-data in c:\\users\\gebruiker\\anaconda3\\lib\\site-packages (from ipython->ipython-sql) (0.2.0)\n",
      "Requirement already satisfied: traitlets>=5.13.0 in c:\\users\\gebruiker\\anaconda3\\lib\\site-packages (from ipython->ipython-sql) (5.14.3)\n",
      "Requirement already satisfied: colorama in c:\\users\\gebruiker\\anaconda3\\lib\\site-packages (from ipython->ipython-sql) (0.4.6)\n",
      "Requirement already satisfied: wcwidth in c:\\users\\gebruiker\\anaconda3\\lib\\site-packages (from prettytable->ipython-sql) (0.2.5)\n",
      "Requirement already satisfied: parso<0.9.0,>=0.8.3 in c:\\users\\gebruiker\\anaconda3\\lib\\site-packages (from jedi>=0.16->ipython->ipython-sql) (0.8.3)\n",
      "Requirement already satisfied: executing in c:\\users\\gebruiker\\anaconda3\\lib\\site-packages (from stack-data->ipython->ipython-sql) (0.8.3)\n",
      "Requirement already satisfied: asttokens in c:\\users\\gebruiker\\anaconda3\\lib\\site-packages (from stack-data->ipython->ipython-sql) (2.0.5)\n",
      "Requirement already satisfied: pure-eval in c:\\users\\gebruiker\\anaconda3\\lib\\site-packages (from stack-data->ipython->ipython-sql) (0.2.2)\n",
      "Note: you may need to restart the kernel to use updated packages.\n"
     ]
    },
    {
     "name": "stderr",
     "output_type": "stream",
     "text": [
      "WARNING: Ignoring invalid distribution ~qlalchemy (C:\\Users\\Gebruiker\\AppData\\Roaming\\Python\\Python312\\site-packages)\n",
      "WARNING: Ignoring invalid distribution ~qlalchemy (C:\\Users\\Gebruiker\\AppData\\Roaming\\Python\\Python312\\site-packages)\n",
      "WARNING: Ignoring invalid distribution ~harset-normalizer (C:\\Users\\Gebruiker\\anaconda3\\Lib\\site-packages)\n",
      "WARNING: Ignoring invalid distribution ~qlalchemy (C:\\Users\\Gebruiker\\AppData\\Roaming\\Python\\Python312\\site-packages)\n",
      "WARNING: Ignoring invalid distribution ~harset-normalizer (C:\\Users\\Gebruiker\\anaconda3\\Lib\\site-packages)\n",
      "WARNING: Ignoring invalid distribution ~harset-normalizer (C:\\Users\\Gebruiker\\anaconda3\\Lib\\site-packages)\n",
      "WARNING: Ignoring invalid distribution ~qlalchemy (C:\\Users\\Gebruiker\\AppData\\Roaming\\Python\\Python312\\site-packages)\n",
      "WARNING: Ignoring invalid distribution ~qlalchemy (C:\\Users\\Gebruiker\\AppData\\Roaming\\Python\\Python312\\site-packages)\n"
     ]
    }
   ],
   "source": [
    "pip install ipython-sql\n"
   ]
  },
  {
   "cell_type": "code",
   "execution_count": 37,
   "id": "c4617988-a8df-41f9-97c0-26987245dcdb",
   "metadata": {},
   "outputs": [],
   "source": [
    "%load_ext sql\n"
   ]
  },
  {
   "cell_type": "code",
   "execution_count": 38,
   "id": "50386ec9-0d85-41db-8ceb-b848c809b949",
   "metadata": {},
   "outputs": [],
   "source": [
    "%sql sqlite:///chinook.db"
   ]
  },
  {
   "cell_type": "code",
   "execution_count": 39,
   "id": "5ce6bce3-a37d-4534-a235-59b6cbb5888c",
   "metadata": {},
   "outputs": [
    {
     "name": "stdout",
     "output_type": "stream",
     "text": [
      " * sqlite:///chinook.db\n",
      "Done.\n"
     ]
    },
    {
     "data": {
      "text/html": [
       "<table>\n",
       "    <thead>\n",
       "        <tr>\n",
       "            <th>name</th>\n",
       "        </tr>\n",
       "    </thead>\n",
       "    <tbody>\n",
       "    </tbody>\n",
       "</table>"
      ],
      "text/plain": [
       "[]"
      ]
     },
     "execution_count": 39,
     "metadata": {},
     "output_type": "execute_result"
    }
   ],
   "source": [
    "%sql SELECT name FROM sqlite_master WHERE type='table';\n"
   ]
  },
  {
   "cell_type": "code",
   "execution_count": 40,
   "id": "8a6c3d05-ae01-4550-bebe-1860db28cf1a",
   "metadata": {},
   "outputs": [
    {
     "name": "stderr",
     "output_type": "stream",
     "text": [
      "UsageError: Line magic function `%pwed` not found.\n"
     ]
    }
   ],
   "source": [
    "%pwed\n"
   ]
  },
  {
   "cell_type": "code",
   "execution_count": 41,
   "id": "1a357957-cebc-4ce1-a108-643aca5142ca",
   "metadata": {},
   "outputs": [
    {
     "data": {
      "text/plain": [
       "'C:\\\\Users\\\\Gebruiker\\\\Projects\\\\Data_science\\\\data engineering'"
      ]
     },
     "execution_count": 41,
     "metadata": {},
     "output_type": "execute_result"
    }
   ],
   "source": [
    "%pwd"
   ]
  },
  {
   "cell_type": "code",
   "execution_count": 42,
   "id": "a16cd4d5-7bf1-4481-b6f4-33fe2876b2a4",
   "metadata": {},
   "outputs": [
    {
     "name": "stdout",
     "output_type": "stream",
     "text": [
      " Volume in drive C is Windows-SSD\n",
      " Volume Serial Number is 0223-9B06\n",
      "\n",
      " Directory of C:\\Users\\Gebruiker\\Projects\\Data_science\\data engineering\n",
      "\n",
      "10/29/2025  05:26 PM    <DIR>          .\n",
      "10/04/2025  11:18 PM    <DIR>          ..\n",
      "10/04/2025  11:46 PM               200 .gitignore\n",
      "10/28/2025  02:04 PM    <DIR>          .ipynb_checkpoints\n",
      "10/10/2025  06:39 PM             8,192 bookshop.db\n",
      "10/29/2025  05:25 PM                 0 chinook.db\n",
      "10/28/2025  02:46 PM             8,192 INSTRUCTOR.db\n",
      "10/28/2025  02:50 PM             4,616 INSTRUCTOR.db-journal\n",
      "10/05/2025  09:51 AM               178 PETSHOP.csv\n",
      "10/05/2025  10:24 AM             8,192 petshop.db\n",
      "10/29/2025  05:26 PM            19,892 PYTHON_SQL_.ipynb\n",
      "10/04/2025  11:37 PM                18 README.md\n",
      "10/10/2025  06:41 PM            28,326 sql_practice.ipynb\n",
      "              10 File(s)         77,806 bytes\n",
      "               3 Dir(s)  94,978,887,680 bytes free\n"
     ]
    }
   ],
   "source": [
    "%ls"
   ]
  },
  {
   "cell_type": "code",
   "execution_count": 43,
   "id": "91b2adc5-5c9a-4448-bddf-8a2fb6f52466",
   "metadata": {},
   "outputs": [
    {
     "name": "stdout",
     "output_type": "stream",
     "text": [
      "The sql extension is already loaded. To reload it, use:\n",
      "  %reload_ext sql\n",
      " * sqlite:///chinbook.db\n",
      "   sqlite:///chinook.db\n",
      "Done.\n"
     ]
    },
    {
     "data": {
      "text/html": [
       "<table>\n",
       "    <thead>\n",
       "        <tr>\n",
       "            <th>name</th>\n",
       "        </tr>\n",
       "    </thead>\n",
       "    <tbody>\n",
       "        <tr>\n",
       "            <td>Album</td>\n",
       "        </tr>\n",
       "        <tr>\n",
       "            <td>Artist</td>\n",
       "        </tr>\n",
       "        <tr>\n",
       "            <td>Customer</td>\n",
       "        </tr>\n",
       "        <tr>\n",
       "            <td>Employee</td>\n",
       "        </tr>\n",
       "        <tr>\n",
       "            <td>Genre</td>\n",
       "        </tr>\n",
       "        <tr>\n",
       "            <td>Invoice</td>\n",
       "        </tr>\n",
       "        <tr>\n",
       "            <td>InvoiceLine</td>\n",
       "        </tr>\n",
       "        <tr>\n",
       "            <td>MediaType</td>\n",
       "        </tr>\n",
       "        <tr>\n",
       "            <td>Playlist</td>\n",
       "        </tr>\n",
       "        <tr>\n",
       "            <td>PlaylistTrack</td>\n",
       "        </tr>\n",
       "        <tr>\n",
       "            <td>Track</td>\n",
       "        </tr>\n",
       "    </tbody>\n",
       "</table>"
      ],
      "text/plain": [
       "[('Album',),\n",
       " ('Artist',),\n",
       " ('Customer',),\n",
       " ('Employee',),\n",
       " ('Genre',),\n",
       " ('Invoice',),\n",
       " ('InvoiceLine',),\n",
       " ('MediaType',),\n",
       " ('Playlist',),\n",
       " ('PlaylistTrack',),\n",
       " ('Track',)]"
      ]
     },
     "execution_count": 43,
     "metadata": {},
     "output_type": "execute_result"
    }
   ],
   "source": [
    "%load_ext sql\n",
    "%sql sqlite:///chinbook.db\n",
    "%sql SELECT name FROM sqlite_master WHERE type='table';\n"
   ]
  },
  {
   "cell_type": "code",
   "execution_count": null,
   "id": "5f2003b4-1ce2-492f-9163-1c7b99e55e15",
   "metadata": {},
   "outputs": [],
   "source": []
  }
 ],
 "metadata": {
  "kernelspec": {
   "display_name": "Python 3 (ipykernel)",
   "language": "python",
   "name": "python3"
  },
  "language_info": {
   "codemirror_mode": {
    "name": "ipython",
    "version": 3
   },
   "file_extension": ".py",
   "mimetype": "text/x-python",
   "name": "python",
   "nbconvert_exporter": "python",
   "pygments_lexer": "ipython3",
   "version": "3.12.7"
  }
 },
 "nbformat": 4,
 "nbformat_minor": 5
}
