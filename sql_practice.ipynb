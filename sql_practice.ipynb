{
 "cells": [
  {
   "cell_type": "markdown",
   "id": "6d551225-a914-492c-97d9-870f2cf6b56e",
   "metadata": {},
   "source": [
    "## SQL practice"
   ]
  },
  {
   "cell_type": "code",
   "execution_count": null,
   "id": "2f2bd3a2-82f0-4e8b-8170-9e4520636a66",
   "metadata": {},
   "outputs": [],
   "source": []
  }
 ],
 "metadata": {
  "kernelspec": {
   "display_name": "Python 3 (ipykernel)",
   "language": "python",
   "name": "python3"
  },
  "language_info": {
   "codemirror_mode": {
    "name": "ipython",
    "version": 3
   },
   "file_extension": ".py",
   "mimetype": "text/x-python",
   "name": "python",
   "nbconvert_exporter": "python",
   "pygments_lexer": "ipython3",
   "version": "3.12.7"
  }
 },
 "nbformat": 4,
 "nbformat_minor": 5
}
