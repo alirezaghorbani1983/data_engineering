{
 "cells": [
  {
   "cell_type": "markdown",
   "id": "6d551225-a914-492c-97d9-870f2cf6b56e",
   "metadata": {},
   "source": [
    "## SQL practice"
   ]
  },
  {
   "cell_type": "markdown",
   "id": "0a8c4e41-5975-4175-975d-3061bb13e633",
   "metadata": {},
   "source": [
    "#  nnn"
   ]
  },
  {
   "cell_type": "code",
   "execution_count": 1,
   "id": "94ee6bde-1e7f-4d4e-91f1-1584fb801470",
   "metadata": {},
   "outputs": [
    {
     "data": {
      "text/plain": [
       "2"
      ]
     },
     "execution_count": 1,
     "metadata": {},
     "output_type": "execute_result"
    }
   ],
   "source": [
    "1 + 1"
   ]
  },
  {
   "cell_type": "code",
   "execution_count": 3,
   "id": "6f5414ef-6ec1-4578-92e6-2ab6d4adcdef",
   "metadata": {},
   "outputs": [
    {
     "name": "stdout",
     "output_type": "stream",
     "text": [
      "   ID    ANIMAL  SALEPRICE    SALEDATE  QUANTITY\n",
      "0   1       Cat     450.09  2018-05-29         9\n",
      "1   2       Dog     666.66  2018-06-01         3\n",
      "2   3    Parrot      50.00  2018-06-04         2\n",
      "3   4   Hamster      60.60  2018-06-11         6\n",
      "4   5  Goldfish      48.48  2018-06-14        24\n"
     ]
    }
   ],
   "source": [
    "import pandas as pd\n",
    "\n",
    "df = pd.read_csv(\"PETSHOP.csv\")\n",
    "print(df.head())"
   ]
  },
  {
   "cell_type": "code",
   "execution_count": 6,
   "id": "036b28ae-4e01-4d32-9f5a-b41b4d0dd1a0",
   "metadata": {},
   "outputs": [
    {
     "data": {
      "text/plain": [
       "5"
      ]
     },
     "execution_count": 6,
     "metadata": {},
     "output_type": "execute_result"
    }
   ],
   "source": [
    "import sqlite3\n",
    "\n",
    "con = sqlite3.connect(\"petshop.db\")\n",
    "\n",
    "df.to_sql(\"petshop\", con, index = False, if_exists = \"replace\")"
   ]
  },
  {
   "cell_type": "code",
   "execution_count": 9,
   "id": "b2c6c495-4905-4051-b198-db5a04141dfe",
   "metadata": {},
   "outputs": [
    {
     "name": "stdout",
     "output_type": "stream",
     "text": [
      "Requirement already satisfied: ipython-sql in c:\\users\\gebruiker\\anaconda3\\lib\\site-packages (0.5.0)\n",
      "Requirement already satisfied: prettytable in c:\\users\\gebruiker\\appdata\\roaming\\python\\python312\\site-packages (from ipython-sql) (3.5.0)\n",
      "Requirement already satisfied: ipython in c:\\users\\gebruiker\\anaconda3\\lib\\site-packages (from ipython-sql) (8.27.0)\n",
      "Collecting sqlalchemy>=2.0 (from ipython-sql)\n",
      "  Using cached sqlalchemy-2.0.43-cp312-cp312-win_amd64.whl.metadata (9.8 kB)\n",
      "Requirement already satisfied: sqlparse in c:\\users\\gebruiker\\appdata\\roaming\\python\\python312\\site-packages (from ipython-sql) (0.5.3)\n",
      "Requirement already satisfied: six in c:\\users\\gebruiker\\anaconda3\\lib\\site-packages (from ipython-sql) (1.16.0)\n",
      "Requirement already satisfied: ipython-genutils in c:\\users\\gebruiker\\anaconda3\\lib\\site-packages (from ipython-sql) (0.2.0)\n",
      "Requirement already satisfied: greenlet>=1 in c:\\users\\gebruiker\\anaconda3\\lib\\site-packages (from sqlalchemy>=2.0->ipython-sql) (3.0.1)\n",
      "Requirement already satisfied: typing-extensions>=4.6.0 in c:\\users\\gebruiker\\anaconda3\\lib\\site-packages (from sqlalchemy>=2.0->ipython-sql) (4.11.0)\n",
      "Requirement already satisfied: decorator in c:\\users\\gebruiker\\anaconda3\\lib\\site-packages (from ipython->ipython-sql) (5.1.1)\n",
      "Requirement already satisfied: jedi>=0.16 in c:\\users\\gebruiker\\anaconda3\\lib\\site-packages (from ipython->ipython-sql) (0.19.1)\n",
      "Requirement already satisfied: matplotlib-inline in c:\\users\\gebruiker\\anaconda3\\lib\\site-packages (from ipython->ipython-sql) (0.1.6)\n",
      "Requirement already satisfied: prompt-toolkit<3.1.0,>=3.0.41 in c:\\users\\gebruiker\\anaconda3\\lib\\site-packages (from ipython->ipython-sql) (3.0.43)\n",
      "Requirement already satisfied: pygments>=2.4.0 in c:\\users\\gebruiker\\anaconda3\\lib\\site-packages (from ipython->ipython-sql) (2.15.1)\n",
      "Requirement already satisfied: stack-data in c:\\users\\gebruiker\\anaconda3\\lib\\site-packages (from ipython->ipython-sql) (0.2.0)\n",
      "Requirement already satisfied: traitlets>=5.13.0 in c:\\users\\gebruiker\\anaconda3\\lib\\site-packages (from ipython->ipython-sql) (5.14.3)\n",
      "Requirement already satisfied: colorama in c:\\users\\gebruiker\\anaconda3\\lib\\site-packages (from ipython->ipython-sql) (0.4.6)\n",
      "Requirement already satisfied: wcwidth in c:\\users\\gebruiker\\anaconda3\\lib\\site-packages (from prettytable->ipython-sql) (0.2.5)\n",
      "Requirement already satisfied: parso<0.9.0,>=0.8.3 in c:\\users\\gebruiker\\anaconda3\\lib\\site-packages (from jedi>=0.16->ipython->ipython-sql) (0.8.3)\n",
      "Requirement already satisfied: executing in c:\\users\\gebruiker\\anaconda3\\lib\\site-packages (from stack-data->ipython->ipython-sql) (0.8.3)\n",
      "Requirement already satisfied: asttokens in c:\\users\\gebruiker\\anaconda3\\lib\\site-packages (from stack-data->ipython->ipython-sql) (2.0.5)\n",
      "Requirement already satisfied: pure-eval in c:\\users\\gebruiker\\anaconda3\\lib\\site-packages (from stack-data->ipython->ipython-sql) (0.2.2)\n",
      "Using cached sqlalchemy-2.0.43-cp312-cp312-win_amd64.whl (2.1 MB)\n",
      "Installing collected packages: sqlalchemy\n",
      "  Attempting uninstall: sqlalchemy\n",
      "    Found existing installation: SQLAlchemy 1.3.24\n",
      "    Uninstalling SQLAlchemy-1.3.24:\n",
      "      Successfully uninstalled SQLAlchemy-1.3.24\n",
      "Successfully installed sqlalchemy-2.0.34\n",
      "Note: you may need to restart the kernel to use updated packages.\n"
     ]
    },
    {
     "name": "stderr",
     "output_type": "stream",
     "text": [
      "WARNING: Ignoring invalid distribution ~qlalchemy (C:\\Users\\Gebruiker\\AppData\\Roaming\\Python\\Python312\\site-packages)\n",
      "WARNING: Ignoring invalid distribution ~qlalchemy (C:\\Users\\Gebruiker\\AppData\\Roaming\\Python\\Python312\\site-packages)\n",
      "WARNING: Ignoring invalid distribution ~harset-normalizer (C:\\Users\\Gebruiker\\anaconda3\\Lib\\site-packages)\n",
      "WARNING: Ignoring invalid distribution ~qlalchemy (C:\\Users\\Gebruiker\\AppData\\Roaming\\Python\\Python312\\site-packages)\n",
      "WARNING: Ignoring invalid distribution ~harset-normalizer (C:\\Users\\Gebruiker\\anaconda3\\Lib\\site-packages)\n",
      "WARNING: Ignoring invalid distribution ~harset-normalizer (C:\\Users\\Gebruiker\\anaconda3\\Lib\\site-packages)\n",
      "WARNING: Ignoring invalid distribution ~qlalchemy (C:\\Users\\Gebruiker\\AppData\\Roaming\\Python\\Python312\\site-packages)\n",
      "WARNING: Ignoring invalid distribution ~qlalchemy (C:\\Users\\Gebruiker\\AppData\\Roaming\\Python\\Python312\\site-packages)\n"
     ]
    }
   ],
   "source": [
    "pip install ipython-sql\n"
   ]
  },
  {
   "cell_type": "code",
   "execution_count": 10,
   "id": "85329920-2da5-4606-8717-dc7714f18bad",
   "metadata": {},
   "outputs": [],
   "source": [
    "%load_ext sql\n"
   ]
  },
  {
   "cell_type": "code",
   "execution_count": 11,
   "id": "c246d807-386f-4146-87d6-29b5d1871fb7",
   "metadata": {},
   "outputs": [],
   "source": [
    "%sql sqlite:///petshop.db"
   ]
  },
  {
   "cell_type": "code",
   "execution_count": 12,
   "id": "64d5b013-061f-4491-aedb-ff62ce8997ae",
   "metadata": {},
   "outputs": [
    {
     "name": "stdout",
     "output_type": "stream",
     "text": [
      " * sqlite:///petshop.db\n",
      "Done.\n"
     ]
    },
    {
     "data": {
      "text/html": [
       "<table>\n",
       "    <thead>\n",
       "        <tr>\n",
       "            <th>SUM(QUANTITY)</th>\n",
       "        </tr>\n",
       "    </thead>\n",
       "    <tbody>\n",
       "        <tr>\n",
       "            <td>44</td>\n",
       "        </tr>\n",
       "    </tbody>\n",
       "</table>"
      ],
      "text/plain": [
       "[(44,)]"
      ]
     },
     "execution_count": 12,
     "metadata": {},
     "output_type": "execute_result"
    }
   ],
   "source": [
    "%%sql\n",
    "SELECT SUM(QUANTITY) FROM petshop;\n"
   ]
  },
  {
   "cell_type": "code",
   "execution_count": 14,
   "id": "d63cd05e-281a-4342-b1ff-f44429f415d6",
   "metadata": {},
   "outputs": [
    {
     "name": "stdout",
     "output_type": "stream",
     "text": [
      " * sqlite:///petshop.db\n",
      "Done.\n"
     ]
    },
    {
     "data": {
      "text/html": [
       "<table>\n",
       "    <thead>\n",
       "        <tr>\n",
       "            <th>COUNT(DISTINCT ANIMAL)</th>\n",
       "        </tr>\n",
       "    </thead>\n",
       "    <tbody>\n",
       "        <tr>\n",
       "            <td>5</td>\n",
       "        </tr>\n",
       "    </tbody>\n",
       "</table>"
      ],
      "text/plain": [
       "[(5,)]"
      ]
     },
     "execution_count": 14,
     "metadata": {},
     "output_type": "execute_result"
    }
   ],
   "source": [
    "%%sql\n",
    "SELECT COUNT(DISTINCT ANIMAL) FROM petshop;\n"
   ]
  },
  {
   "cell_type": "code",
   "execution_count": 17,
   "id": "79005759-b5ab-4c91-bc36-fb6301488058",
   "metadata": {},
   "outputs": [
    {
     "name": "stdout",
     "output_type": "stream",
     "text": [
      " * sqlite:///petshop.db\n",
      "Done.\n"
     ]
    },
    {
     "data": {
      "text/html": [
       "<table>\n",
       "    <thead>\n",
       "        <tr>\n",
       "            <th>AVG(SALEPRICE)</th>\n",
       "        </tr>\n",
       "    </thead>\n",
       "    <tbody>\n",
       "        <tr>\n",
       "            <td>255.166</td>\n",
       "        </tr>\n",
       "    </tbody>\n",
       "</table>"
      ],
      "text/plain": [
       "[(255.166,)]"
      ]
     },
     "execution_count": 17,
     "metadata": {},
     "output_type": "execute_result"
    }
   ],
   "source": [
    "\n",
    "%%sql\n",
    "SELECT AVG(SALEPRICE) FROM petshop;"
   ]
  },
  {
   "cell_type": "code",
   "execution_count": 18,
   "id": "55510a45-070d-4460-8581-49b336a26e90",
   "metadata": {},
   "outputs": [
    {
     "name": "stdout",
     "output_type": "stream",
     "text": [
      " * sqlite:///petshop.db\n",
      "Done.\n"
     ]
    },
    {
     "data": {
      "text/html": [
       "<table>\n",
       "    <thead>\n",
       "        <tr>\n",
       "            <th>ANIMAL</th>\n",
       "        </tr>\n",
       "    </thead>\n",
       "    <tbody>\n",
       "        <tr>\n",
       "            <td>Cat</td>\n",
       "        </tr>\n",
       "        <tr>\n",
       "            <td>Dog</td>\n",
       "        </tr>\n",
       "        <tr>\n",
       "            <td>Parrot</td>\n",
       "        </tr>\n",
       "        <tr>\n",
       "            <td>Hamster</td>\n",
       "        </tr>\n",
       "        <tr>\n",
       "            <td>Goldfish</td>\n",
       "        </tr>\n",
       "    </tbody>\n",
       "</table>"
      ],
      "text/plain": [
       "[('Cat',), ('Dog',), ('Parrot',), ('Hamster',), ('Goldfish',)]"
      ]
     },
     "execution_count": 18,
     "metadata": {},
     "output_type": "execute_result"
    }
   ],
   "source": [
    "%%sql\n",
    "SELECT ANIMAL FROM petshop;"
   ]
  },
  {
   "cell_type": "code",
   "execution_count": 21,
   "id": "446b4dc8-4890-4b0f-b55b-4f0c2de49696",
   "metadata": {},
   "outputs": [
    {
     "name": "stdout",
     "output_type": "stream",
     "text": [
      " * sqlite:///petshop.db\n",
      "Done.\n"
     ]
    },
    {
     "data": {
      "text/html": [
       "<table>\n",
       "    <thead>\n",
       "        <tr>\n",
       "            <th>total_rows</th>\n",
       "        </tr>\n",
       "    </thead>\n",
       "    <tbody>\n",
       "        <tr>\n",
       "            <td>5</td>\n",
       "        </tr>\n",
       "    </tbody>\n",
       "</table>"
      ],
      "text/plain": [
       "[(5,)]"
      ]
     },
     "execution_count": 21,
     "metadata": {},
     "output_type": "execute_result"
    }
   ],
   "source": [
    "%%sql\n",
    "SELECT COUNT(*) AS total_rows FROM petshop;"
   ]
  },
  {
   "cell_type": "code",
   "execution_count": 22,
   "id": "a0b5ac47-820e-4b12-8183-36a68c79a17d",
   "metadata": {},
   "outputs": [
    {
     "name": "stdout",
     "output_type": "stream",
     "text": [
      " * sqlite:///petshop.db\n",
      "Done.\n"
     ]
    },
    {
     "data": {
      "text/html": [
       "<table>\n",
       "    <thead>\n",
       "        <tr>\n",
       "            <th>total_quantity</th>\n",
       "        </tr>\n",
       "    </thead>\n",
       "    <tbody>\n",
       "        <tr>\n",
       "            <td>44</td>\n",
       "        </tr>\n",
       "    </tbody>\n",
       "</table>"
      ],
      "text/plain": [
       "[(44,)]"
      ]
     },
     "execution_count": 22,
     "metadata": {},
     "output_type": "execute_result"
    }
   ],
   "source": [
    "%%sql\n",
    "SELECT SUM(QUANTITY) AS total_quantity FROM petshop;\n"
   ]
  },
  {
   "cell_type": "code",
   "execution_count": 2,
   "id": "d941ca20-5f00-4297-9b83-22c474014e6f",
   "metadata": {},
   "outputs": [
    {
     "name": "stderr",
     "output_type": "stream",
     "text": [
      "UsageError: Cell magic `%%sql` not found.\n"
     ]
    }
   ],
   "source": [
    "%%sql\n",
    "#Drop the tables in case they exist\n",
    "\n",
    "DROP TABLE IF EXISTS BookShop;\n",
    "DROP TABLE IF EXISTS BookShop_AuthorDetails;\n",
    "\n",
    "#Create the table\n",
    "\n",
    "CREATE TABLE BookShop (\n",
    "\tBOOK_ID VARCHAR(4) NOT NULL, \n",
    "\tTITLE VARCHAR(100) NOT NULL, \n",
    "\tAUTHOR_NAME VARCHAR(30) NOT NULL, \n",
    "\tAUTHOR_BIO VARCHAR(250),\n",
    "\tAUTHOR_ID INTEGER NOT NULL, \n",
    "\tPUBLICATION_DATE DATE NOT NULL, \n",
    "\tPRICE_USD DECIMAL(6,2) CHECK(Price_USD>0) NOT NULL\n",
    "\t);\n",
    "\n",
    "#Insert sample data into the table\n",
    "\n",
    "INSERT INTO BookShop VALUES\n",
    "('B101', 'Introduction to Algorithms', 'Thomas H. Cormen', 'Thomas H. Cormen is the co-author of Introduction to Algorithms, along with Charles Leiserson, Ron Rivest, and Cliff Stein. He is a Full Professor of computer science at Dartmouth College and currently Chair of the Dartmouth College Writing Program.', 123 , '2001-09-01', 125),\n",
    "('B201', 'Structure and Interpretation of Computer Programs', 'Harold Abelson', 'Harold Abelson, Ph.D., is Class of 1922 Professor of Computer Science and Engineering in the Department of Electrical Engineering and Computer Science at MIT and a fellow of the IEEE.', 456, '1996-07-25', 65.5),\n",
    "('B301', 'Deep Learning', 'Ian Goodfellow', 'Ian J. Goodfellow is a researcher working in machine learning, currently employed at Apple Inc. as its director of machine learning in the Special Projects Group. He was previously employed as a research scientist at Google Brain.', 369, '2016-11-01', 82.7),\n",
    "('B401', 'Algorithms Unlocked', 'Thomas H. Cormen', 'Thomas H. Cormen is the co-author of Introduction to Algorithms, along with Charles Leiserson, Ron Rivest, and Cliff Stein. He is a Full Professor of computer science at Dartmouth College and currently Chair of the Dartmouth College Writing Program.', 123, '2013-05-15', 36.5),\n",
    "('B501', 'Machine Learning: A Probabilistic Perspective', 'Kevin P. Murphy', '', 157, '2012-08-24', 46);\n",
    "\n",
    "#Retrieve all records from the table\n",
    "\n",
    "SELECT * FROM BookShop;"
   ]
  },
  {
   "cell_type": "code",
   "execution_count": 3,
   "id": "27a43485-353c-4a69-86a1-53ebd4335d64",
   "metadata": {},
   "outputs": [
    {
     "name": "stdout",
     "output_type": "stream",
     "text": [
      "Requirement already satisfied: ipython-sql in c:\\users\\gebruiker\\anaconda3\\lib\\site-packages (0.5.0)\n",
      "Requirement already satisfied: sqlalchemy in c:\\users\\gebruiker\\anaconda3\\lib\\site-packages (2.0.34)\n",
      "Requirement already satisfied: prettytable in c:\\users\\gebruiker\\appdata\\roaming\\python\\python312\\site-packages (from ipython-sql) (3.5.0)\n",
      "Requirement already satisfied: ipython in c:\\users\\gebruiker\\anaconda3\\lib\\site-packages (from ipython-sql) (8.27.0)\n",
      "Requirement already satisfied: sqlparse in c:\\users\\gebruiker\\appdata\\roaming\\python\\python312\\site-packages (from ipython-sql) (0.5.3)\n",
      "Requirement already satisfied: six in c:\\users\\gebruiker\\anaconda3\\lib\\site-packages (from ipython-sql) (1.16.0)\n",
      "Requirement already satisfied: ipython-genutils in c:\\users\\gebruiker\\anaconda3\\lib\\site-packages (from ipython-sql) (0.2.0)\n",
      "Requirement already satisfied: typing-extensions>=4.6.0 in c:\\users\\gebruiker\\anaconda3\\lib\\site-packages (from sqlalchemy) (4.11.0)\n",
      "Requirement already satisfied: greenlet!=0.4.17 in c:\\users\\gebruiker\\anaconda3\\lib\\site-packages (from sqlalchemy) (3.0.1)\n",
      "Requirement already satisfied: decorator in c:\\users\\gebruiker\\anaconda3\\lib\\site-packages (from ipython->ipython-sql) (5.1.1)\n",
      "Requirement already satisfied: jedi>=0.16 in c:\\users\\gebruiker\\anaconda3\\lib\\site-packages (from ipython->ipython-sql) (0.19.1)\n",
      "Requirement already satisfied: matplotlib-inline in c:\\users\\gebruiker\\anaconda3\\lib\\site-packages (from ipython->ipython-sql) (0.1.6)\n",
      "Requirement already satisfied: prompt-toolkit<3.1.0,>=3.0.41 in c:\\users\\gebruiker\\anaconda3\\lib\\site-packages (from ipython->ipython-sql) (3.0.43)\n",
      "Requirement already satisfied: pygments>=2.4.0 in c:\\users\\gebruiker\\anaconda3\\lib\\site-packages (from ipython->ipython-sql) (2.15.1)\n",
      "Requirement already satisfied: stack-data in c:\\users\\gebruiker\\anaconda3\\lib\\site-packages (from ipython->ipython-sql) (0.2.0)\n",
      "Requirement already satisfied: traitlets>=5.13.0 in c:\\users\\gebruiker\\anaconda3\\lib\\site-packages (from ipython->ipython-sql) (5.14.3)\n",
      "Requirement already satisfied: colorama in c:\\users\\gebruiker\\anaconda3\\lib\\site-packages (from ipython->ipython-sql) (0.4.6)\n",
      "Requirement already satisfied: wcwidth in c:\\users\\gebruiker\\anaconda3\\lib\\site-packages (from prettytable->ipython-sql) (0.2.5)\n",
      "Requirement already satisfied: parso<0.9.0,>=0.8.3 in c:\\users\\gebruiker\\anaconda3\\lib\\site-packages (from jedi>=0.16->ipython->ipython-sql) (0.8.3)\n",
      "Requirement already satisfied: executing in c:\\users\\gebruiker\\anaconda3\\lib\\site-packages (from stack-data->ipython->ipython-sql) (0.8.3)\n",
      "Requirement already satisfied: asttokens in c:\\users\\gebruiker\\anaconda3\\lib\\site-packages (from stack-data->ipython->ipython-sql) (2.0.5)\n",
      "Requirement already satisfied: pure-eval in c:\\users\\gebruiker\\anaconda3\\lib\\site-packages (from stack-data->ipython->ipython-sql) (0.2.2)\n",
      "Note: you may need to restart the kernel to use updated packages.\n"
     ]
    },
    {
     "name": "stderr",
     "output_type": "stream",
     "text": [
      "WARNING: Ignoring invalid distribution ~qlalchemy (C:\\Users\\Gebruiker\\AppData\\Roaming\\Python\\Python312\\site-packages)\n",
      "WARNING: Ignoring invalid distribution ~qlalchemy (C:\\Users\\Gebruiker\\AppData\\Roaming\\Python\\Python312\\site-packages)\n",
      "WARNING: Ignoring invalid distribution ~harset-normalizer (C:\\Users\\Gebruiker\\anaconda3\\Lib\\site-packages)\n",
      "WARNING: Ignoring invalid distribution ~qlalchemy (C:\\Users\\Gebruiker\\AppData\\Roaming\\Python\\Python312\\site-packages)\n",
      "WARNING: Ignoring invalid distribution ~harset-normalizer (C:\\Users\\Gebruiker\\anaconda3\\Lib\\site-packages)\n",
      "WARNING: Ignoring invalid distribution ~harset-normalizer (C:\\Users\\Gebruiker\\anaconda3\\Lib\\site-packages)\n",
      "WARNING: Ignoring invalid distribution ~qlalchemy (C:\\Users\\Gebruiker\\AppData\\Roaming\\Python\\Python312\\site-packages)\n",
      "WARNING: Ignoring invalid distribution ~qlalchemy (C:\\Users\\Gebruiker\\AppData\\Roaming\\Python\\Python312\\site-packages)\n"
     ]
    }
   ],
   "source": [
    "%pip install ipython-sql sqlalchemy\n",
    "%load_ext sql\n"
   ]
  },
  {
   "cell_type": "code",
   "execution_count": 5,
   "id": "2078b8b2-5a2e-4114-9771-2abdd49dd8ca",
   "metadata": {},
   "outputs": [],
   "source": [
    "%sql sqlite:///bookshop.db\n"
   ]
  },
  {
   "cell_type": "code",
   "execution_count": 6,
   "id": "93ec0027-6b37-4192-ac3c-a2f2ab3e11f5",
   "metadata": {},
   "outputs": [
    {
     "name": "stdout",
     "output_type": "stream",
     "text": [
      " * sqlite:///bookshop.db\n",
      "Done.\n",
      "Done.\n",
      "Done.\n",
      "5 rows affected.\n",
      "Done.\n"
     ]
    },
    {
     "data": {
      "text/html": [
       "<table>\n",
       "    <thead>\n",
       "        <tr>\n",
       "            <th>BOOK_ID</th>\n",
       "            <th>TITLE</th>\n",
       "            <th>AUTHOR_NAME</th>\n",
       "            <th>AUTHOR_BIO</th>\n",
       "            <th>AUTHOR_ID</th>\n",
       "            <th>PUBLICATION_DATE</th>\n",
       "            <th>PRICE_USD</th>\n",
       "        </tr>\n",
       "    </thead>\n",
       "    <tbody>\n",
       "        <tr>\n",
       "            <td>B101</td>\n",
       "            <td>Introduction to Algorithms</td>\n",
       "            <td>Thomas H. Cormen</td>\n",
       "            <td>Thomas H. Cormen is the co-author of Introduction to Algorithms, along with Charles Leiserson, Ron Rivest, and Cliff Stein. He is a Full Professor of computer science at Dartmouth College and currently Chair of the Dartmouth College Writing Program.</td>\n",
       "            <td>123</td>\n",
       "            <td>2001-09-01</td>\n",
       "            <td>125</td>\n",
       "        </tr>\n",
       "        <tr>\n",
       "            <td>B201</td>\n",
       "            <td>Structure and Interpretation of Computer Programs</td>\n",
       "            <td>Harold Abelson</td>\n",
       "            <td>Harold Abelson, Ph.D., is Class of 1922 Professor of Computer Science and Engineering in the Department of Electrical Engineering and Computer Science at MIT and a fellow of the IEEE.</td>\n",
       "            <td>456</td>\n",
       "            <td>1996-07-25</td>\n",
       "            <td>65.5</td>\n",
       "        </tr>\n",
       "        <tr>\n",
       "            <td>B301</td>\n",
       "            <td>Deep Learning</td>\n",
       "            <td>Ian Goodfellow</td>\n",
       "            <td>Ian J. Goodfellow is a researcher working in machine learning, currently employed at Apple Inc. as its director of machine learning in the Special Projects Group. He was previously employed as a research scientist at Google Brain.</td>\n",
       "            <td>369</td>\n",
       "            <td>2016-11-01</td>\n",
       "            <td>82.7</td>\n",
       "        </tr>\n",
       "        <tr>\n",
       "            <td>B401</td>\n",
       "            <td>Algorithms Unlocked</td>\n",
       "            <td>Thomas H. Cormen</td>\n",
       "            <td>Thomas H. Cormen is the co-author of Introduction to Algorithms, along with Charles Leiserson, Ron Rivest, and Cliff Stein. He is a Full Professor of computer science at Dartmouth College and currently Chair of the Dartmouth College Writing Program.</td>\n",
       "            <td>123</td>\n",
       "            <td>2013-05-15</td>\n",
       "            <td>36.5</td>\n",
       "        </tr>\n",
       "        <tr>\n",
       "            <td>B501</td>\n",
       "            <td>Machine Learning: A Probabilistic Perspective</td>\n",
       "            <td>Kevin P. Murphy</td>\n",
       "            <td></td>\n",
       "            <td>157</td>\n",
       "            <td>2012-08-24</td>\n",
       "            <td>46</td>\n",
       "        </tr>\n",
       "    </tbody>\n",
       "</table>"
      ],
      "text/plain": [
       "[('B101', 'Introduction to Algorithms', 'Thomas H. Cormen', 'Thomas H. Cormen is the co-author of Introduction to Algorithms, along with Charles Leiserson, Ron Rivest, and Cliff Stein. He is a Full Professor of computer science at Dartmouth College and currently Chair of the Dartmouth College Writing Program.', 123, '2001-09-01', 125),\n",
       " ('B201', 'Structure and Interpretation of Computer Programs', 'Harold Abelson', 'Harold Abelson, Ph.D., is Class of 1922 Professor of Computer Science and Engineering in the Department of Electrical Engineering and Computer Science at MIT and a fellow of the IEEE.', 456, '1996-07-25', 65.5),\n",
       " ('B301', 'Deep Learning', 'Ian Goodfellow', 'Ian J. Goodfellow is a researcher working in machine learning, currently employed at Apple Inc. as its director of machine learning in the Special Projects Group. He was previously employed as a research scientist at Google Brain.', 369, '2016-11-01', 82.7),\n",
       " ('B401', 'Algorithms Unlocked', 'Thomas H. Cormen', 'Thomas H. Cormen is the co-author of Introduction to Algorithms, along with Charles Leiserson, Ron Rivest, and Cliff Stein. He is a Full Professor of computer science at Dartmouth College and currently Chair of the Dartmouth College Writing Program.', 123, '2013-05-15', 36.5),\n",
       " ('B501', 'Machine Learning: A Probabilistic Perspective', 'Kevin P. Murphy', '', 157, '2012-08-24', 46)]"
      ]
     },
     "execution_count": 6,
     "metadata": {},
     "output_type": "execute_result"
    }
   ],
   "source": [
    "%%sql\n",
    "DROP TABLE IF EXISTS BookShop;\n",
    "DROP TABLE IF EXISTS BookShop_AuthorDetails;\n",
    "\n",
    "CREATE TABLE BookShop (\n",
    "    BOOK_ID VARCHAR(4) NOT NULL,\n",
    "    TITLE VARCHAR(100) NOT NULL,\n",
    "    AUTHOR_NAME VARCHAR(30) NOT NULL,\n",
    "    AUTHOR_BIO VARCHAR(250),\n",
    "    AUTHOR_ID INTEGER NOT NULL,\n",
    "    PUBLICATION_DATE DATE NOT NULL,\n",
    "    PRICE_USD DECIMAL(6,2) CHECK(Price_USD>0) NOT NULL\n",
    ");\n",
    "\n",
    "INSERT INTO BookShop VALUES\n",
    "('B101','Introduction to Algorithms','Thomas H. Cormen','Thomas H. Cormen is the co-author of Introduction to Algorithms, along with Charles Leiserson, Ron Rivest, and Cliff Stein. He is a Full Professor of computer science at Dartmouth College and currently Chair of the Dartmouth College Writing Program.',123,'2001-09-01',125),\n",
    "('B201','Structure and Interpretation of Computer Programs','Harold Abelson','Harold Abelson, Ph.D., is Class of 1922 Professor of Computer Science and Engineering in the Department of Electrical Engineering and Computer Science at MIT and a fellow of the IEEE.',456,'1996-07-25',65.5),\n",
    "('B301','Deep Learning','Ian Goodfellow','Ian J. Goodfellow is a researcher working in machine learning, currently employed at Apple Inc. as its director of machine learning in the Special Projects Group. He was previously employed as a research scientist at Google Brain.',369,'2016-11-01',82.7),\n",
    "('B401','Algorithms Unlocked','Thomas H. Cormen','Thomas H. Cormen is the co-author of Introduction to Algorithms, along with Charles Leiserson, Ron Rivest, and Cliff Stein. He is a Full Professor of computer science at Dartmouth College and currently Chair of the Dartmouth College Writing Program.',123,'2013-05-15',36.5),\n",
    "('B501','Machine Learning: A Probabilistic Perspective','Kevin P. Murphy','',157,'2012-08-24',46);\n",
    "\n",
    "SELECT * FROM BookShop;\n"
   ]
  },
  {
   "cell_type": "code",
   "execution_count": null,
   "id": "d37fea7a-b5f5-4dd3-affa-22f0be9de63a",
   "metadata": {},
   "outputs": [],
   "source": []
  }
 ],
 "metadata": {
  "kernelspec": {
   "display_name": "Python 3 (ipykernel)",
   "language": "python",
   "name": "python3"
  },
  "language_info": {
   "codemirror_mode": {
    "name": "ipython",
    "version": 3
   },
   "file_extension": ".py",
   "mimetype": "text/x-python",
   "name": "python",
   "nbconvert_exporter": "python",
   "pygments_lexer": "ipython3",
   "version": "3.12.7"
  }
 },
 "nbformat": 4,
 "nbformat_minor": 5
}
