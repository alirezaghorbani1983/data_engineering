{
 "cells": [
  {
   "cell_type": "markdown",
   "id": "6d551225-a914-492c-97d9-870f2cf6b56e",
   "metadata": {},
   "source": [
    "## SQL practice"
   ]
  },
  {
   "cell_type": "markdown",
   "id": "0a8c4e41-5975-4175-975d-3061bb13e633",
   "metadata": {},
   "source": [
    "#  nnn"
   ]
  },
  {
   "cell_type": "code",
   "execution_count": 1,
   "id": "94ee6bde-1e7f-4d4e-91f1-1584fb801470",
   "metadata": {},
   "outputs": [
    {
     "data": {
      "text/plain": [
       "2"
      ]
     },
     "execution_count": 1,
     "metadata": {},
     "output_type": "execute_result"
    }
   ],
   "source": [
    "1 + 1"
   ]
  },
  {
   "cell_type": "code",
   "execution_count": null,
   "id": "6f5414ef-6ec1-4578-92e6-2ab6d4adcdef",
   "metadata": {},
   "outputs": [],
   "source": []
  }
 ],
 "metadata": {
  "kernelspec": {
   "display_name": "Python 3 (ipykernel)",
   "language": "python",
   "name": "python3"
  },
  "language_info": {
   "codemirror_mode": {
    "name": "ipython",
    "version": 3
   },
   "file_extension": ".py",
   "mimetype": "text/x-python",
   "name": "python",
   "nbconvert_exporter": "python",
   "pygments_lexer": "ipython3",
   "version": "3.12.7"
  }
 },
 "nbformat": 4,
 "nbformat_minor": 5
}
